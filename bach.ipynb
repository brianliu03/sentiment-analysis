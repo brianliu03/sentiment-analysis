{
 "cells": [
  {
   "cell_type": "code",
   "execution_count": 1,
   "metadata": {},
   "outputs": [],
   "source": [
    "from transformers import pipeline\n",
    "import nltk\n",
    "import numpy as np\n",
    "\n",
    "text = open('01_1.txt').read()\n",
    "text = np.array(nltk.sent_tokenize(text))\n",
    "\n",
    "# replace \\n with ' '\n",
    "text = np.char.replace(text, '\\n', ' ')\n",
    "\n",
    "classifier = pipeline(task=\"text-classification\", model=\"SamLowe/roberta-base-go_emotions\", top_k=None)"
   ]
  },
  {
   "cell_type": "code",
   "execution_count": 33,
   "metadata": {},
   "outputs": [],
   "source": [
    "# test by eye on 10 random sentences from text\n",
    "import random\n",
    "\n",
    "# init list of sentences from random sample\n",
    "random.seed(42)\n",
    "sentences = list([text[i] for i in random.sample(range(len(text)), 10)])\n",
    "\n",
    "wedlock = list(['I worried that I would never see the day - but it had finally come. \"Wedlock suits you,\" he remarked.',\n",
    "               'It had been a long time coming, and a lot of people were worried that it would never happen. \"Wedlock suits you,\" he remarked.',\n",
    "               'A sour look came over his face. \"Wedlock suits you,\" he remarked.',\n",
    "               'A scary thought came to mind. \"Wedlock suits you,\" he burst.',\n",
    "               'I am worried that I will never see the day - it seems far away. \"Are you sure wedlock suits you?\" he asked.',\n",
    "               'I was happy to see that the wedding went off without a hitch. \"Wedlock suits you,\" he remarked.',\n",
    "               'I am worried that the marriage might not go well. \"Wedlock suits you,\" he joked.',\n",
    "               'I wondered if the marriage would last. \"Wedlock suits you,\" he remarked.',\n",
    "               'I was thrilled to see that the wedding went off without a hitch. \"Wedlock suits you,\" he remarked.',\n",
    "               'I was livid to see that the wedding went off without a hitch. \"Wedlock does not suit you,\" he remarked.'])"
   ]
  },
  {
   "cell_type": "code",
   "execution_count": 34,
   "metadata": {},
   "outputs": [],
   "source": [
    "# get sentiments\n",
    "sentiment_pip = classifier(wedlock)"
   ]
  },
  {
   "cell_type": "code",
   "execution_count": 35,
   "metadata": {},
   "outputs": [
    {
     "name": "stdout",
     "output_type": "stream",
     "text": [
      "I worried that I would never see the day - but it had finally come. \"Wedlock suits you,\" he remarked.\n",
      "[{'label': 'nervousness', 'score': 0.458}, {'label': 'fear', 'score': 0.243}, {'label': 'caring', 'score': 0.146}, {'label': 'neutral', 'score': 0.129}, {'label': 'approval', 'score': 0.047}, {'label': 'realization', 'score': 0.046}, {'label': 'sadness', 'score': 0.043}, {'label': 'joy', 'score': 0.036}, {'label': 'relief', 'score': 0.03}, {'label': 'optimism', 'score': 0.026}, {'label': 'excitement', 'score': 0.018}, {'label': 'disappointment', 'score': 0.016}, {'label': 'confusion', 'score': 0.011}, {'label': 'annoyance', 'score': 0.009}, {'label': 'admiration', 'score': 0.009}, {'label': 'desire', 'score': 0.006}, {'label': 'amusement', 'score': 0.006}, {'label': 'curiosity', 'score': 0.006}, {'label': 'surprise', 'score': 0.005}, {'label': 'grief', 'score': 0.005}, {'label': 'disapproval', 'score': 0.005}, {'label': 'remorse', 'score': 0.004}, {'label': 'love', 'score': 0.004}, {'label': 'pride', 'score': 0.003}, {'label': 'embarrassment', 'score': 0.003}, {'label': 'gratitude', 'score': 0.003}, {'label': 'disgust', 'score': 0.002}, {'label': 'anger', 'score': 0.002}]\n",
      "\n",
      "It had been a long time coming, and a lot of people were worried that it would never happen. \"Wedlock suits you,\" he remarked.\n",
      "[{'label': 'nervousness', 'score': 0.266}, {'label': 'neutral', 'score': 0.189}, {'label': 'fear', 'score': 0.168}, {'label': 'caring', 'score': 0.095}, {'label': 'approval', 'score': 0.071}, {'label': 'realization', 'score': 0.04}, {'label': 'sadness', 'score': 0.021}, {'label': 'optimism', 'score': 0.019}, {'label': 'relief', 'score': 0.017}, {'label': 'joy', 'score': 0.016}, {'label': 'disappointment', 'score': 0.015}, {'label': 'confusion', 'score': 0.01}, {'label': 'annoyance', 'score': 0.009}, {'label': 'excitement', 'score': 0.009}, {'label': 'disapproval', 'score': 0.008}, {'label': 'admiration', 'score': 0.008}, {'label': 'desire', 'score': 0.004}, {'label': 'amusement', 'score': 0.003}, {'label': 'curiosity', 'score': 0.003}, {'label': 'love', 'score': 0.003}, {'label': 'grief', 'score': 0.003}, {'label': 'surprise', 'score': 0.003}, {'label': 'remorse', 'score': 0.002}, {'label': 'embarrassment', 'score': 0.002}, {'label': 'pride', 'score': 0.002}, {'label': 'disgust', 'score': 0.002}, {'label': 'anger', 'score': 0.001}, {'label': 'gratitude', 'score': 0.001}]\n",
      "\n",
      "A sour look came over his face. \"Wedlock suits you,\" he remarked.\n",
      "[{'label': 'neutral', 'score': 0.736}, {'label': 'amusement', 'score': 0.042}, {'label': 'annoyance', 'score': 0.033}, {'label': 'approval', 'score': 0.032}, {'label': 'disgust', 'score': 0.021}, {'label': 'realization', 'score': 0.013}, {'label': 'disappointment', 'score': 0.01}, {'label': 'joy', 'score': 0.008}, {'label': 'sadness', 'score': 0.007}, {'label': 'admiration', 'score': 0.006}, {'label': 'disapproval', 'score': 0.004}, {'label': 'love', 'score': 0.004}, {'label': 'embarrassment', 'score': 0.003}, {'label': 'anger', 'score': 0.003}, {'label': 'optimism', 'score': 0.002}, {'label': 'caring', 'score': 0.002}, {'label': 'desire', 'score': 0.002}, {'label': 'excitement', 'score': 0.002}, {'label': 'fear', 'score': 0.001}, {'label': 'relief', 'score': 0.001}, {'label': 'confusion', 'score': 0.001}, {'label': 'remorse', 'score': 0.001}, {'label': 'curiosity', 'score': 0.001}, {'label': 'grief', 'score': 0.001}, {'label': 'pride', 'score': 0.001}, {'label': 'nervousness', 'score': 0.001}, {'label': 'gratitude', 'score': 0.001}, {'label': 'surprise', 'score': 0.0}]\n",
      "\n",
      "A scary thought came to mind. \"Wedlock suits you,\" he burst.\n",
      "[{'label': 'fear', 'score': 0.605}, {'label': 'neutral', 'score': 0.332}, {'label': 'approval', 'score': 0.04}, {'label': 'nervousness', 'score': 0.033}, {'label': 'realization', 'score': 0.031}, {'label': 'optimism', 'score': 0.012}, {'label': 'excitement', 'score': 0.01}, {'label': 'surprise', 'score': 0.008}, {'label': 'joy', 'score': 0.008}, {'label': 'caring', 'score': 0.007}, {'label': 'annoyance', 'score': 0.007}, {'label': 'sadness', 'score': 0.007}, {'label': 'amusement', 'score': 0.007}, {'label': 'disgust', 'score': 0.006}, {'label': 'admiration', 'score': 0.006}, {'label': 'confusion', 'score': 0.005}, {'label': 'disapproval', 'score': 0.004}, {'label': 'disappointment', 'score': 0.004}, {'label': 'relief', 'score': 0.003}, {'label': 'desire', 'score': 0.003}, {'label': 'curiosity', 'score': 0.002}, {'label': 'grief', 'score': 0.002}, {'label': 'embarrassment', 'score': 0.002}, {'label': 'anger', 'score': 0.002}, {'label': 'love', 'score': 0.002}, {'label': 'pride', 'score': 0.001}, {'label': 'gratitude', 'score': 0.001}, {'label': 'remorse', 'score': 0.001}]\n",
      "\n",
      "I am worried that I will never see the day - it seems far away. \"Are you sure wedlock suits you?\" he asked.\n",
      "[{'label': 'nervousness', 'score': 0.6}, {'label': 'fear', 'score': 0.358}, {'label': 'caring', 'score': 0.111}, {'label': 'sadness', 'score': 0.074}, {'label': 'neutral', 'score': 0.072}, {'label': 'confusion', 'score': 0.059}, {'label': 'curiosity', 'score': 0.052}, {'label': 'disappointment', 'score': 0.026}, {'label': 'realization', 'score': 0.022}, {'label': 'approval', 'score': 0.019}, {'label': 'excitement', 'score': 0.016}, {'label': 'joy', 'score': 0.015}, {'label': 'optimism', 'score': 0.013}, {'label': 'annoyance', 'score': 0.012}, {'label': 'relief', 'score': 0.009}, {'label': 'admiration', 'score': 0.009}, {'label': 'disapproval', 'score': 0.008}, {'label': 'love', 'score': 0.008}, {'label': 'desire', 'score': 0.007}, {'label': 'surprise', 'score': 0.007}, {'label': 'grief', 'score': 0.006}, {'label': 'amusement', 'score': 0.006}, {'label': 'remorse', 'score': 0.005}, {'label': 'embarrassment', 'score': 0.004}, {'label': 'anger', 'score': 0.003}, {'label': 'disgust', 'score': 0.002}, {'label': 'gratitude', 'score': 0.002}, {'label': 'pride', 'score': 0.001}]\n",
      "\n",
      "I was happy to see that the wedding went off without a hitch. \"Wedlock suits you,\" he remarked.\n",
      "[{'label': 'joy', 'score': 0.871}, {'label': 'approval', 'score': 0.074}, {'label': 'admiration', 'score': 0.052}, {'label': 'neutral', 'score': 0.048}, {'label': 'relief', 'score': 0.033}, {'label': 'excitement', 'score': 0.029}, {'label': 'love', 'score': 0.028}, {'label': 'gratitude', 'score': 0.019}, {'label': 'caring', 'score': 0.017}, {'label': 'amusement', 'score': 0.011}, {'label': 'realization', 'score': 0.009}, {'label': 'optimism', 'score': 0.009}, {'label': 'pride', 'score': 0.008}, {'label': 'annoyance', 'score': 0.005}, {'label': 'disapproval', 'score': 0.004}, {'label': 'confusion', 'score': 0.003}, {'label': 'desire', 'score': 0.003}, {'label': 'sadness', 'score': 0.002}, {'label': 'anger', 'score': 0.002}, {'label': 'curiosity', 'score': 0.002}, {'label': 'surprise', 'score': 0.002}, {'label': 'disappointment', 'score': 0.002}, {'label': 'nervousness', 'score': 0.001}, {'label': 'grief', 'score': 0.001}, {'label': 'embarrassment', 'score': 0.001}, {'label': 'remorse', 'score': 0.001}, {'label': 'disgust', 'score': 0.001}, {'label': 'fear', 'score': 0.001}]\n",
      "\n",
      "I am worried that the marriage might not go well. \"Wedlock suits you,\" he joked.\n",
      "[{'label': 'nervousness', 'score': 0.308}, {'label': 'amusement', 'score': 0.169}, {'label': 'joy', 'score': 0.112}, {'label': 'caring', 'score': 0.109}, {'label': 'fear', 'score': 0.073}, {'label': 'sadness', 'score': 0.056}, {'label': 'neutral', 'score': 0.041}, {'label': 'approval', 'score': 0.029}, {'label': 'realization', 'score': 0.022}, {'label': 'disappointment', 'score': 0.018}, {'label': 'optimism', 'score': 0.018}, {'label': 'relief', 'score': 0.016}, {'label': 'annoyance', 'score': 0.015}, {'label': 'excitement', 'score': 0.014}, {'label': 'confusion', 'score': 0.01}, {'label': 'disapproval', 'score': 0.007}, {'label': 'love', 'score': 0.007}, {'label': 'admiration', 'score': 0.007}, {'label': 'curiosity', 'score': 0.006}, {'label': 'desire', 'score': 0.006}, {'label': 'remorse', 'score': 0.005}, {'label': 'embarrassment', 'score': 0.005}, {'label': 'grief', 'score': 0.004}, {'label': 'anger', 'score': 0.003}, {'label': 'disgust', 'score': 0.002}, {'label': 'surprise', 'score': 0.002}, {'label': 'pride', 'score': 0.002}, {'label': 'gratitude', 'score': 0.001}]\n",
      "\n",
      "I wondered if the marriage would last. \"Wedlock suits you,\" he remarked.\n",
      "[{'label': 'curiosity', 'score': 0.36}, {'label': 'surprise', 'score': 0.304}, {'label': 'neutral', 'score': 0.09}, {'label': 'optimism', 'score': 0.074}, {'label': 'excitement', 'score': 0.074}, {'label': 'admiration', 'score': 0.029}, {'label': 'approval', 'score': 0.019}, {'label': 'confusion', 'score': 0.017}, {'label': 'amusement', 'score': 0.01}, {'label': 'joy', 'score': 0.009}, {'label': 'desire', 'score': 0.009}, {'label': 'realization', 'score': 0.008}, {'label': 'caring', 'score': 0.007}, {'label': 'love', 'score': 0.005}, {'label': 'fear', 'score': 0.003}, {'label': 'annoyance', 'score': 0.003}, {'label': 'nervousness', 'score': 0.002}, {'label': 'disappointment', 'score': 0.002}, {'label': 'gratitude', 'score': 0.002}, {'label': 'sadness', 'score': 0.001}, {'label': 'relief', 'score': 0.001}, {'label': 'disapproval', 'score': 0.001}, {'label': 'anger', 'score': 0.001}, {'label': 'embarrassment', 'score': 0.001}, {'label': 'grief', 'score': 0.001}, {'label': 'disgust', 'score': 0.001}, {'label': 'remorse', 'score': 0.001}, {'label': 'pride', 'score': 0.001}]\n",
      "\n",
      "I was thrilled to see that the wedding went off without a hitch. \"Wedlock suits you,\" he remarked.\n",
      "[{'label': 'joy', 'score': 0.659}, {'label': 'excitement', 'score': 0.422}, {'label': 'neutral', 'score': 0.053}, {'label': 'admiration', 'score': 0.05}, {'label': 'approval', 'score': 0.042}, {'label': 'love', 'score': 0.018}, {'label': 'relief', 'score': 0.01}, {'label': 'gratitude', 'score': 0.009}, {'label': 'surprise', 'score': 0.007}, {'label': 'pride', 'score': 0.007}, {'label': 'amusement', 'score': 0.006}, {'label': 'caring', 'score': 0.006}, {'label': 'optimism', 'score': 0.005}, {'label': 'annoyance', 'score': 0.005}, {'label': 'curiosity', 'score': 0.004}, {'label': 'realization', 'score': 0.004}, {'label': 'desire', 'score': 0.003}, {'label': 'disapproval', 'score': 0.003}, {'label': 'confusion', 'score': 0.002}, {'label': 'anger', 'score': 0.002}, {'label': 'nervousness', 'score': 0.002}, {'label': 'disappointment', 'score': 0.002}, {'label': 'sadness', 'score': 0.001}, {'label': 'fear', 'score': 0.001}, {'label': 'embarrassment', 'score': 0.001}, {'label': 'disgust', 'score': 0.001}, {'label': 'grief', 'score': 0.001}, {'label': 'remorse', 'score': 0.0}]\n",
      "\n",
      "I was livid to see that the wedding went off without a hitch. \"Wedlock does not suit you,\" he remarked.\n",
      "[{'label': 'neutral', 'score': 0.207}, {'label': 'anger', 'score': 0.141}, {'label': 'annoyance', 'score': 0.1}, {'label': 'sadness', 'score': 0.093}, {'label': 'disappointment', 'score': 0.07}, {'label': 'joy', 'score': 0.03}, {'label': 'surprise', 'score': 0.028}, {'label': 'fear', 'score': 0.025}, {'label': 'excitement', 'score': 0.02}, {'label': 'disgust', 'score': 0.013}, {'label': 'realization', 'score': 0.013}, {'label': 'disapproval', 'score': 0.011}, {'label': 'admiration', 'score': 0.008}, {'label': 'grief', 'score': 0.008}, {'label': 'nervousness', 'score': 0.007}, {'label': 'approval', 'score': 0.006}, {'label': 'love', 'score': 0.005}, {'label': 'amusement', 'score': 0.004}, {'label': 'embarrassment', 'score': 0.004}, {'label': 'pride', 'score': 0.003}, {'label': 'relief', 'score': 0.003}, {'label': 'curiosity', 'score': 0.002}, {'label': 'desire', 'score': 0.002}, {'label': 'caring', 'score': 0.002}, {'label': 'confusion', 'score': 0.001}, {'label': 'optimism', 'score': 0.001}, {'label': 'remorse', 'score': 0.001}, {'label': 'gratitude', 'score': 0.001}]\n",
      "\n"
     ]
    }
   ],
   "source": [
    "# truncate scores to 3 decimals\n",
    "for i in range(len(sentiment_pip)):\n",
    "    for item in sentiment_pip[i]:\n",
    "        item['score'] = round(item['score'], 3)\n",
    "\n",
    "# print results\n",
    "for i in range(len(sentiment_pip)):\n",
    "    print(wedlock[i])\n",
    "    print(sentiment_pip[i])\n",
    "    print()"
   ]
  }
 ],
 "metadata": {
  "kernelspec": {
   "display_name": "mlenv",
   "language": "python",
   "name": "python3"
  },
  "language_info": {
   "codemirror_mode": {
    "name": "ipython",
    "version": 3
   },
   "file_extension": ".py",
   "mimetype": "text/x-python",
   "name": "python",
   "nbconvert_exporter": "python",
   "pygments_lexer": "ipython3",
   "version": "3.11.5"
  },
  "orig_nbformat": 4
 },
 "nbformat": 4,
 "nbformat_minor": 2
}
