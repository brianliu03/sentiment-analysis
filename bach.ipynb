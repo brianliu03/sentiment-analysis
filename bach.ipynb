{
 "cells": [
  {
   "cell_type": "code",
   "execution_count": 1,
   "metadata": {},
   "outputs": [],
   "source": [
    "from transformers import pipeline\n",
    "import nltk\n",
    "import numpy as np\n",
    "\n",
    "text = open('01_1.txt').read()\n",
    "text = np.array(nltk.sent_tokenize(text))\n",
    "\n",
    "# replace \\n with ' '\n",
    "text = np.char.replace(text, '\\n', ' ')\n",
    "\n",
    "classifier = pipeline(task=\"text-classification\", model=\"SamLowe/roberta-base-go_emotions\", top_k=None)"
   ]
  },
  {
   "cell_type": "code",
   "execution_count": 3,
   "metadata": {},
   "outputs": [
    {
     "data": {
      "text/plain": [
       "['My marriage had drifted us away from each other.',\n",
       " 'I have seldom heard him mention her under any other name.',\n",
       " '\"Indeed, I should have thought a little more.',\n",
       " '\"Wedlock suits you,\" he remarked.',\n",
       " 'It seldom was; but he was glad, I think, to see me.',\n",
       " 'From time to time I heard some vague account of his doings: of his summons to Odessa in the case of the Trepoff murder, of his clearing up of the singular tragedy of the Atkinson brothers at Trincomalee, and finally of the mission which he had accomplished so delicately and successfully for the reigning family of Holland.',\n",
       " 'I had seen little of Holmes lately.',\n",
       " 'Grit in a sensitive instrument, or a crack in one of his own high-power lenses, would not be more disturbing than a strong emotion in a nature such as his.',\n",
       " '\"Quite so,\" he answered, lighting a cigarette, and throwing himself down into an armchair.',\n",
       " 'In his eyes she eclipses and predominates the whole of her sex.']"
      ]
     },
     "execution_count": 3,
     "metadata": {},
     "output_type": "execute_result"
    }
   ],
   "source": [
    "# test by eye on 10 random sentences from text\n",
    "import random\n",
    "\n",
    "# init list of sentences from random sample\n",
    "random.seed(42)\n",
    "sentences = list([text[i] for i in random.sample(range(len(text)), 10)])\n",
    "sentences\n",
    "\n",
    "wedlock = list('I worried that I would never see the day - but it had finally come. \"Wedlock suits you,\" he remarked.',\n",
    "               'I was happy to see that the wedding went off without a hitch. \"Wedlock suits you,\" he remarked.',\n",
    "               'I am worried that the marriage might not go well. \"Wedlock suits you,\" he joked.',\n",
    "               'I wondered if the marriage would last. \"Wedlock suits you,\" he remarked.')"
   ]
  },
  {
   "cell_type": "code",
   "execution_count": null,
   "metadata": {},
   "outputs": [],
   "source": [
    "# get sentiments\n",
    "sentiment_pip = classifier(sentences)"
   ]
  },
  {
   "cell_type": "code",
   "execution_count": null,
   "metadata": {},
   "outputs": [],
   "source": [
    "# truncate scores to 3 decimals\n",
    "for i in range(len(sentiment_pip)):\n",
    "    for item in sentiment_pip[i]:\n",
    "        item['score'] = round(item['score'], 3)\n",
    "\n",
    "# print results\n",
    "for i in range(len(sentences)):\n",
    "    print(sentences[i])\n",
    "    print(sentiment_pip[i])\n",
    "    print()"
   ]
  }
 ],
 "metadata": {
  "kernelspec": {
   "display_name": "mlenv",
   "language": "python",
   "name": "python3"
  },
  "language_info": {
   "codemirror_mode": {
    "name": "ipython",
    "version": 3
   },
   "file_extension": ".py",
   "mimetype": "text/x-python",
   "name": "python",
   "nbconvert_exporter": "python",
   "pygments_lexer": "ipython3",
   "version": "3.11.5"
  },
  "orig_nbformat": 4
 },
 "nbformat": 4,
 "nbformat_minor": 2
}
