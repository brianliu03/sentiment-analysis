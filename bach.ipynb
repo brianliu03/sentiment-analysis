{
 "cells": [
  {
   "cell_type": "code",
   "execution_count": 2,
   "metadata": {},
   "outputs": [
    {
     "data": {
      "application/vnd.jupyter.widget-view+json": {
       "model_id": "36d042d68ccb4779b3e981497da04aa2",
       "version_major": 2,
       "version_minor": 0
      },
      "text/plain": [
       "Downloading (…)lve/main/config.json:   0%|          | 0.00/1.92k [00:00<?, ?B/s]"
      ]
     },
     "metadata": {},
     "output_type": "display_data"
    },
    {
     "data": {
      "application/vnd.jupyter.widget-view+json": {
       "model_id": "69044d1a12a9452f8b5a21de199dd7ab",
       "version_major": 2,
       "version_minor": 0
      },
      "text/plain": [
       "Downloading model.safetensors:   0%|          | 0.00/499M [00:00<?, ?B/s]"
      ]
     },
     "metadata": {},
     "output_type": "display_data"
    },
    {
     "data": {
      "application/vnd.jupyter.widget-view+json": {
       "model_id": "9ddfde21650b466cb81e954941b773c3",
       "version_major": 2,
       "version_minor": 0
      },
      "text/plain": [
       "Downloading (…)okenizer_config.json:   0%|          | 0.00/380 [00:00<?, ?B/s]"
      ]
     },
     "metadata": {},
     "output_type": "display_data"
    },
    {
     "data": {
      "application/vnd.jupyter.widget-view+json": {
       "model_id": "0f6894d163c542139a0f4e5070f86100",
       "version_major": 2,
       "version_minor": 0
      },
      "text/plain": [
       "Downloading (…)olve/main/vocab.json:   0%|          | 0.00/798k [00:00<?, ?B/s]"
      ]
     },
     "metadata": {},
     "output_type": "display_data"
    },
    {
     "data": {
      "application/vnd.jupyter.widget-view+json": {
       "model_id": "b7548fc968774005907b0a429ece039b",
       "version_major": 2,
       "version_minor": 0
      },
      "text/plain": [
       "Downloading (…)olve/main/merges.txt:   0%|          | 0.00/456k [00:00<?, ?B/s]"
      ]
     },
     "metadata": {},
     "output_type": "display_data"
    },
    {
     "data": {
      "application/vnd.jupyter.widget-view+json": {
       "model_id": "0419d0265bac4193ab1285bc129c9e96",
       "version_major": 2,
       "version_minor": 0
      },
      "text/plain": [
       "Downloading (…)/main/tokenizer.json:   0%|          | 0.00/2.11M [00:00<?, ?B/s]"
      ]
     },
     "metadata": {},
     "output_type": "display_data"
    },
    {
     "data": {
      "application/vnd.jupyter.widget-view+json": {
       "model_id": "7ea3536ab51b44d1a4292dd0fd496f14",
       "version_major": 2,
       "version_minor": 0
      },
      "text/plain": [
       "Downloading (…)cial_tokens_map.json:   0%|          | 0.00/280 [00:00<?, ?B/s]"
      ]
     },
     "metadata": {},
     "output_type": "display_data"
    }
   ],
   "source": [
    "from transformers import pipeline\n",
    "import nltk\n",
    "import numpy as np\n",
    "\n",
    "text = open('01_1.txt').read()\n",
    "text = np.array(nltk.sent_tokenize(text))\n",
    "\n",
    "# replace \\n with ' '\n",
    "text = np.char.replace(text, '\\n', ' ')\n",
    "\n",
    "classifier = pipeline(task=\"text-classification\", model=\"SamLowe/roberta-base-go_emotions\", top_k=None)"
   ]
  },
  {
   "cell_type": "code",
   "execution_count": 16,
   "metadata": {},
   "outputs": [
    {
     "name": "stdout",
     "output_type": "stream",
     "text": [
      "{'label': 'disapproval', 'score': 0.10534319281578064}\n"
     ]
    }
   ],
   "source": [
    "print(sentiment_pip[1][1])"
   ]
  },
  {
   "cell_type": "code",
   "execution_count": 26,
   "metadata": {},
   "outputs": [
    {
     "name": "stdout",
     "output_type": "stream",
     "text": [
      "My marriage had drifted us away from each other.\n",
      "[{'label': 'sadness', 'score': 0.73}, {'label': 'neutral', 'score': 0.3}, {'label': 'disappointment', 'score': 0.04}, {'label': 'realization', 'score': 0.04}, {'label': 'grief', 'score': 0.03}, {'label': 'approval', 'score': 0.02}, {'label': 'remorse', 'score': 0.01}, {'label': 'joy', 'score': 0.01}, {'label': 'annoyance', 'score': 0.01}, {'label': 'nervousness', 'score': 0.01}, {'label': 'caring', 'score': 0.01}, {'label': 'love', 'score': 0.01}, {'label': 'desire', 'score': 0.01}, {'label': 'fear', 'score': 0.01}, {'label': 'disgust', 'score': 0.01}, {'label': 'amusement', 'score': 0.0}, {'label': 'relief', 'score': 0.0}, {'label': 'embarrassment', 'score': 0.0}, {'label': 'disapproval', 'score': 0.0}, {'label': 'admiration', 'score': 0.0}, {'label': 'confusion', 'score': 0.0}, {'label': 'optimism', 'score': 0.0}, {'label': 'surprise', 'score': 0.0}, {'label': 'curiosity', 'score': 0.0}, {'label': 'anger', 'score': 0.0}, {'label': 'gratitude', 'score': 0.0}, {'label': 'excitement', 'score': 0.0}, {'label': 'pride', 'score': 0.0}]\n",
      "\n",
      "I have seldom heard him mention her under any other name.\n",
      "[{'label': 'neutral', 'score': 0.86}, {'label': 'disapproval', 'score': 0.11}, {'label': 'approval', 'score': 0.03}, {'label': 'realization', 'score': 0.02}, {'label': 'annoyance', 'score': 0.02}, {'label': 'disappointment', 'score': 0.01}, {'label': 'confusion', 'score': 0.0}, {'label': 'admiration', 'score': 0.0}, {'label': 'optimism', 'score': 0.0}, {'label': 'anger', 'score': 0.0}, {'label': 'disgust', 'score': 0.0}, {'label': 'gratitude', 'score': 0.0}, {'label': 'amusement', 'score': 0.0}, {'label': 'sadness', 'score': 0.0}, {'label': 'surprise', 'score': 0.0}, {'label': 'joy', 'score': 0.0}, {'label': 'caring', 'score': 0.0}, {'label': 'excitement', 'score': 0.0}, {'label': 'curiosity', 'score': 0.0}, {'label': 'embarrassment', 'score': 0.0}, {'label': 'fear', 'score': 0.0}, {'label': 'desire', 'score': 0.0}, {'label': 'love', 'score': 0.0}, {'label': 'relief', 'score': 0.0}, {'label': 'pride', 'score': 0.0}, {'label': 'grief', 'score': 0.0}, {'label': 'nervousness', 'score': 0.0}, {'label': 'remorse', 'score': 0.0}]\n",
      "\n",
      "\"Indeed, I should have thought a little more.\n",
      "[{'label': 'realization', 'score': 0.58}, {'label': 'neutral', 'score': 0.27}, {'label': 'approval', 'score': 0.25}, {'label': 'optimism', 'score': 0.02}, {'label': 'confusion', 'score': 0.01}, {'label': 'remorse', 'score': 0.01}, {'label': 'disappointment', 'score': 0.01}, {'label': 'embarrassment', 'score': 0.01}, {'label': 'annoyance', 'score': 0.01}, {'label': 'disapproval', 'score': 0.01}, {'label': 'gratitude', 'score': 0.01}, {'label': 'amusement', 'score': 0.01}, {'label': 'admiration', 'score': 0.0}, {'label': 'relief', 'score': 0.0}, {'label': 'desire', 'score': 0.0}, {'label': 'sadness', 'score': 0.0}, {'label': 'surprise', 'score': 0.0}, {'label': 'disgust', 'score': 0.0}, {'label': 'joy', 'score': 0.0}, {'label': 'love', 'score': 0.0}, {'label': 'caring', 'score': 0.0}, {'label': 'pride', 'score': 0.0}, {'label': 'curiosity', 'score': 0.0}, {'label': 'excitement', 'score': 0.0}, {'label': 'fear', 'score': 0.0}, {'label': 'nervousness', 'score': 0.0}, {'label': 'anger', 'score': 0.0}, {'label': 'grief', 'score': 0.0}]\n",
      "\n",
      "\"Wedlock suits you,\" he remarked.\n",
      "[{'label': 'neutral', 'score': 0.9}, {'label': 'approval', 'score': 0.04}, {'label': 'amusement', 'score': 0.02}, {'label': 'joy', 'score': 0.01}, {'label': 'admiration', 'score': 0.01}, {'label': 'annoyance', 'score': 0.01}, {'label': 'realization', 'score': 0.01}, {'label': 'excitement', 'score': 0.0}, {'label': 'love', 'score': 0.0}, {'label': 'optimism', 'score': 0.0}, {'label': 'curiosity', 'score': 0.0}, {'label': 'disapproval', 'score': 0.0}, {'label': 'anger', 'score': 0.0}, {'label': 'disappointment', 'score': 0.0}, {'label': 'confusion', 'score': 0.0}, {'label': 'disgust', 'score': 0.0}, {'label': 'caring', 'score': 0.0}, {'label': 'sadness', 'score': 0.0}, {'label': 'surprise', 'score': 0.0}, {'label': 'desire', 'score': 0.0}, {'label': 'gratitude', 'score': 0.0}, {'label': 'relief', 'score': 0.0}, {'label': 'embarrassment', 'score': 0.0}, {'label': 'pride', 'score': 0.0}, {'label': 'fear', 'score': 0.0}, {'label': 'remorse', 'score': 0.0}, {'label': 'grief', 'score': 0.0}, {'label': 'nervousness', 'score': 0.0}]\n",
      "\n",
      "It seldom was; but he was glad, I think, to see me.\n",
      "[{'label': 'joy', 'score': 0.55}, {'label': 'neutral', 'score': 0.2}, {'label': 'approval', 'score': 0.12}, {'label': 'relief', 'score': 0.06}, {'label': 'caring', 'score': 0.04}, {'label': 'gratitude', 'score': 0.03}, {'label': 'admiration', 'score': 0.02}, {'label': 'realization', 'score': 0.01}, {'label': 'optimism', 'score': 0.01}, {'label': 'pride', 'score': 0.01}, {'label': 'excitement', 'score': 0.01}, {'label': 'disapproval', 'score': 0.01}, {'label': 'amusement', 'score': 0.01}, {'label': 'annoyance', 'score': 0.01}, {'label': 'love', 'score': 0.0}, {'label': 'sadness', 'score': 0.0}, {'label': 'disappointment', 'score': 0.0}, {'label': 'confusion', 'score': 0.0}, {'label': 'desire', 'score': 0.0}, {'label': 'nervousness', 'score': 0.0}, {'label': 'grief', 'score': 0.0}, {'label': 'remorse', 'score': 0.0}, {'label': 'anger', 'score': 0.0}, {'label': 'curiosity', 'score': 0.0}, {'label': 'embarrassment', 'score': 0.0}, {'label': 'surprise', 'score': 0.0}, {'label': 'disgust', 'score': 0.0}, {'label': 'fear', 'score': 0.0}]\n",
      "\n",
      "From time to time I heard some vague account of his doings: of his summons to Odessa in the case of the Trepoff murder, of his clearing up of the singular tragedy of the Atkinson brothers at Trincomalee, and finally of the mission which he had accomplished so delicately and successfully for the reigning family of Holland.\n",
      "[{'label': 'neutral', 'score': 0.53}, {'label': 'admiration', 'score': 0.34}, {'label': 'approval', 'score': 0.17}, {'label': 'realization', 'score': 0.05}, {'label': 'gratitude', 'score': 0.01}, {'label': 'optimism', 'score': 0.01}, {'label': 'pride', 'score': 0.01}, {'label': 'disappointment', 'score': 0.01}, {'label': 'annoyance', 'score': 0.0}, {'label': 'relief', 'score': 0.0}, {'label': 'disapproval', 'score': 0.0}, {'label': 'joy', 'score': 0.0}, {'label': 'caring', 'score': 0.0}, {'label': 'excitement', 'score': 0.0}, {'label': 'sadness', 'score': 0.0}, {'label': 'surprise', 'score': 0.0}, {'label': 'desire', 'score': 0.0}, {'label': 'confusion', 'score': 0.0}, {'label': 'disgust', 'score': 0.0}, {'label': 'fear', 'score': 0.0}, {'label': 'love', 'score': 0.0}, {'label': 'grief', 'score': 0.0}, {'label': 'embarrassment', 'score': 0.0}, {'label': 'anger', 'score': 0.0}, {'label': 'remorse', 'score': 0.0}, {'label': 'amusement', 'score': 0.0}, {'label': 'curiosity', 'score': 0.0}, {'label': 'nervousness', 'score': 0.0}]\n",
      "\n",
      "I had seen little of Holmes lately.\n",
      "[{'label': 'neutral', 'score': 0.85}, {'label': 'realization', 'score': 0.11}, {'label': 'approval', 'score': 0.03}, {'label': 'confusion', 'score': 0.02}, {'label': 'disappointment', 'score': 0.01}, {'label': 'disapproval', 'score': 0.01}, {'label': 'annoyance', 'score': 0.01}, {'label': 'sadness', 'score': 0.0}, {'label': 'surprise', 'score': 0.0}, {'label': 'curiosity', 'score': 0.0}, {'label': 'optimism', 'score': 0.0}, {'label': 'admiration', 'score': 0.0}, {'label': 'disgust', 'score': 0.0}, {'label': 'love', 'score': 0.0}, {'label': 'embarrassment', 'score': 0.0}, {'label': 'excitement', 'score': 0.0}, {'label': 'desire', 'score': 0.0}, {'label': 'joy', 'score': 0.0}, {'label': 'amusement', 'score': 0.0}, {'label': 'fear', 'score': 0.0}, {'label': 'nervousness', 'score': 0.0}, {'label': 'relief', 'score': 0.0}, {'label': 'anger', 'score': 0.0}, {'label': 'remorse', 'score': 0.0}, {'label': 'caring', 'score': 0.0}, {'label': 'grief', 'score': 0.0}, {'label': 'gratitude', 'score': 0.0}, {'label': 'pride', 'score': 0.0}]\n",
      "\n",
      "Grit in a sensitive instrument, or a crack in one of his own high-power lenses, would not be more disturbing than a strong emotion in a nature such as his.\n",
      "[{'label': 'neutral', 'score': 0.72}, {'label': 'disapproval', 'score': 0.25}, {'label': 'annoyance', 'score': 0.06}, {'label': 'realization', 'score': 0.04}, {'label': 'approval', 'score': 0.03}, {'label': 'disappointment', 'score': 0.03}, {'label': 'confusion', 'score': 0.01}, {'label': 'optimism', 'score': 0.0}, {'label': 'disgust', 'score': 0.0}, {'label': 'sadness', 'score': 0.0}, {'label': 'anger', 'score': 0.0}, {'label': 'surprise', 'score': 0.0}, {'label': 'caring', 'score': 0.0}, {'label': 'admiration', 'score': 0.0}, {'label': 'curiosity', 'score': 0.0}, {'label': 'embarrassment', 'score': 0.0}, {'label': 'fear', 'score': 0.0}, {'label': 'desire', 'score': 0.0}, {'label': 'nervousness', 'score': 0.0}, {'label': 'relief', 'score': 0.0}, {'label': 'joy', 'score': 0.0}, {'label': 'amusement', 'score': 0.0}, {'label': 'gratitude', 'score': 0.0}, {'label': 'excitement', 'score': 0.0}, {'label': 'remorse', 'score': 0.0}, {'label': 'love', 'score': 0.0}, {'label': 'grief', 'score': 0.0}, {'label': 'pride', 'score': 0.0}]\n",
      "\n",
      "\"Quite so,\" he answered, lighting a cigarette, and throwing himself down into an armchair.\n",
      "[{'label': 'neutral', 'score': 0.82}, {'label': 'approval', 'score': 0.22}, {'label': 'realization', 'score': 0.01}, {'label': 'annoyance', 'score': 0.01}, {'label': 'admiration', 'score': 0.0}, {'label': 'amusement', 'score': 0.0}, {'label': 'joy', 'score': 0.0}, {'label': 'disapproval', 'score': 0.0}, {'label': 'optimism', 'score': 0.0}, {'label': 'excitement', 'score': 0.0}, {'label': 'disappointment', 'score': 0.0}, {'label': 'anger', 'score': 0.0}, {'label': 'disgust', 'score': 0.0}, {'label': 'love', 'score': 0.0}, {'label': 'caring', 'score': 0.0}, {'label': 'confusion', 'score': 0.0}, {'label': 'curiosity', 'score': 0.0}, {'label': 'sadness', 'score': 0.0}, {'label': 'relief', 'score': 0.0}, {'label': 'desire', 'score': 0.0}, {'label': 'fear', 'score': 0.0}, {'label': 'gratitude', 'score': 0.0}, {'label': 'surprise', 'score': 0.0}, {'label': 'pride', 'score': 0.0}, {'label': 'embarrassment', 'score': 0.0}, {'label': 'nervousness', 'score': 0.0}, {'label': 'remorse', 'score': 0.0}, {'label': 'grief', 'score': 0.0}]\n",
      "\n",
      "In his eyes she eclipses and predominates the whole of her sex.\n",
      "[{'label': 'neutral', 'score': 0.91}, {'label': 'approval', 'score': 0.07}, {'label': 'admiration', 'score': 0.01}, {'label': 'realization', 'score': 0.01}, {'label': 'annoyance', 'score': 0.0}, {'label': 'disapproval', 'score': 0.0}, {'label': 'love', 'score': 0.0}, {'label': 'optimism', 'score': 0.0}, {'label': 'disappointment', 'score': 0.0}, {'label': 'joy', 'score': 0.0}, {'label': 'gratitude', 'score': 0.0}, {'label': 'disgust', 'score': 0.0}, {'label': 'caring', 'score': 0.0}, {'label': 'sadness', 'score': 0.0}, {'label': 'amusement', 'score': 0.0}, {'label': 'excitement', 'score': 0.0}, {'label': 'anger', 'score': 0.0}, {'label': 'desire', 'score': 0.0}, {'label': 'confusion', 'score': 0.0}, {'label': 'fear', 'score': 0.0}, {'label': 'curiosity', 'score': 0.0}, {'label': 'pride', 'score': 0.0}, {'label': 'relief', 'score': 0.0}, {'label': 'surprise', 'score': 0.0}, {'label': 'embarrassment', 'score': 0.0}, {'label': 'remorse', 'score': 0.0}, {'label': 'grief', 'score': 0.0}, {'label': 'nervousness', 'score': 0.0}]\n",
      "\n"
     ]
    }
   ],
   "source": [
    "# test by eye on 10 random sentences from text\n",
    "import random\n",
    "\n",
    "# init list of sentences from random sample\n",
    "random.seed(42)\n",
    "sentences = list([text[i] for i in random.sample(range(len(text)), 10)])\n",
    "\n",
    "# get sentiments\n",
    "sentiment_pip = classifier(sentences)\n",
    "\n",
    "# truncate scores to 2 decimals\n",
    "for i in range(len(sentiment_pip)):\n",
    "    for item in sentiment_pip[i]:\n",
    "        item['score'] = round(item['score'], 2)\n",
    "\n",
    "# print results\n",
    "for i in range(len(sentences)):\n",
    "    print(sentences[i])\n",
    "    print(sentiment_pip[i])\n",
    "    print()\n"
   ]
  }
 ],
 "metadata": {
  "kernelspec": {
   "display_name": "mlenv",
   "language": "python",
   "name": "python3"
  },
  "language_info": {
   "codemirror_mode": {
    "name": "ipython",
    "version": 3
   },
   "file_extension": ".py",
   "mimetype": "text/x-python",
   "name": "python",
   "nbconvert_exporter": "python",
   "pygments_lexer": "ipython3",
   "version": "3.11.5"
  },
  "orig_nbformat": 4
 },
 "nbformat": 4,
 "nbformat_minor": 2
}
