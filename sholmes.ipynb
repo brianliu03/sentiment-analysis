{
 "cells": [
  {
   "cell_type": "code",
   "execution_count": 10,
   "metadata": {},
   "outputs": [
    {
     "name": "stderr",
     "output_type": "stream",
     "text": [
      "No model was supplied, defaulted to distilbert-base-uncased-finetuned-sst-2-english and revision af0f99b (https://huggingface.co/distilbert-base-uncased-finetuned-sst-2-english).\n",
      "Using a pipeline without specifying a model name and revision in production is not recommended.\n"
     ]
    }
   ],
   "source": [
    "from transformers import pipeline, AutoModelForSequenceClassification\n",
    "\n",
    "# load base model and my model for comparison\n",
    "pip_model = pipeline(\"sentiment-analysis\")\n",
    "my_model = pipeline(\"sentiment-analysis\", model=\"sst2/model\")"
   ]
  },
  {
   "cell_type": "code",
   "execution_count": 18,
   "metadata": {},
   "outputs": [],
   "source": [
    "import nltk\n",
    "import numpy as np\n",
    "\n",
    "# get text from file 01_1.txt\n",
    "text = open('01_1.txt').read()\n",
    "text = np.array(nltk.sent_tokenize(text))\n",
    "\n",
    "# replace \\n with ' '\n",
    "text = np.char.replace(text, '\\n', ' ')\n"
   ]
  },
  {
   "cell_type": "code",
   "execution_count": 31,
   "metadata": {},
   "outputs": [
    {
     "name": "stdout",
     "output_type": "stream",
     "text": [
      "It was not that he felt any emotion akin to love for Irene Adler.\n",
      "[{'label': 'NEGATIVE', 'score': 0.9606903791427612}]\n",
      "[{'label': 'LABEL_0', 'score': 0.8905337452888489}]\n"
     ]
    }
   ],
   "source": [
    "test = text[5]\n",
    "print(test)\n",
    "print(pip_model(test))\n",
    "print(my_model(test))"
   ]
  }
 ],
 "metadata": {
  "kernelspec": {
   "display_name": "mlenv",
   "language": "python",
   "name": "python3"
  },
  "language_info": {
   "codemirror_mode": {
    "name": "ipython",
    "version": 3
   },
   "file_extension": ".py",
   "mimetype": "text/x-python",
   "name": "python",
   "nbconvert_exporter": "python",
   "pygments_lexer": "ipython3",
   "version": "3.11.5"
  },
  "orig_nbformat": 4
 },
 "nbformat": 4,
 "nbformat_minor": 2
}
