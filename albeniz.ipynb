{
 "cells": [
  {
   "cell_type": "code",
   "execution_count": 10,
   "metadata": {},
   "outputs": [
    {
     "name": "stderr",
     "output_type": "stream",
     "text": [
      "No model was supplied, defaulted to distilbert-base-uncased-finetuned-sst-2-english and revision af0f99b (https://huggingface.co/distilbert-base-uncased-finetuned-sst-2-english).\n",
      "Using a pipeline without specifying a model name and revision in production is not recommended.\n"
     ]
    }
   ],
   "source": [
    "from transformers import pipeline, AutoModelForSequenceClassification\n",
    "\n",
    "# load base model and my model for comparison\n",
    "pip_model = pipeline(\"sentiment-analysis\")\n",
    "my_model = pipeline(\"sentiment-analysis\", model=\"sst2/model\")"
   ]
  },
  {
   "cell_type": "code",
   "execution_count": 18,
   "metadata": {},
   "outputs": [],
   "source": [
    "import nltk\n",
    "import numpy as np\n",
    "\n",
    "# get text from file 01_1.txt\n",
    "text = open('01_1.txt').read()\n",
    "text = np.array(nltk.sent_tokenize(text))\n",
    "\n",
    "# replace \\n with ' '\n",
    "text = np.char.replace(text, '\\n', ' ')\n"
   ]
  },
  {
   "cell_type": "code",
   "execution_count": 40,
   "metadata": {},
   "outputs": [
    {
     "name": "stdout",
     "output_type": "stream",
     "text": [
      "My marriage had drifted us away from each other.\n",
      "Base model:  NEGATIVE 0.9652701616287231\n",
      "My model:  LABEL_1 0.8388200402259827\n",
      "\n",
      "I have seldom heard him mention her under any other name.\n",
      "Base model:  POSITIVE 0.945405125617981\n",
      "My model:  LABEL_1 0.7381333708763123\n",
      "\n",
      "\"Indeed, I should have thought a little more.\n",
      "Base model:  NEGATIVE 0.9822396039962769\n",
      "My model:  LABEL_0 0.9731321930885315\n",
      "\n",
      "\"Wedlock suits you,\" he remarked.\n",
      "Base model:  POSITIVE 0.999634861946106\n",
      "My model:  LABEL_1 0.9985687732696533\n",
      "\n",
      "It seldom was; but he was glad, I think, to see me.\n",
      "Base model:  POSITIVE 0.999553382396698\n",
      "My model:  LABEL_1 0.999096155166626\n",
      "\n",
      "From time to time I heard some vague account of his doings: of his summons to Odessa in the case of the Trepoff murder, of his clearing up of the singular tragedy of the Atkinson brothers at Trincomalee, and finally of the mission which he had accomplished so delicately and successfully for the reigning family of Holland.\n",
      "Base model:  NEGATIVE 0.965968668460846\n",
      "My model:  LABEL_0 0.6613884568214417\n",
      "\n",
      "I had seen little of Holmes lately.\n",
      "Base model:  NEGATIVE 0.9891623258590698\n",
      "My model:  LABEL_0 0.8993708491325378\n",
      "\n",
      "Grit in a sensitive instrument, or a crack in one of his own high-power lenses, would not be more disturbing than a strong emotion in a nature such as his.\n",
      "Base model:  POSITIVE 0.9565609097480774\n",
      "My model:  LABEL_0 0.5479291677474976\n",
      "\n",
      "\"Quite so,\" he answered, lighting a cigarette, and throwing himself down into an armchair.\n",
      "Base model:  NEGATIVE 0.995475709438324\n",
      "My model:  LABEL_0 0.9858835339546204\n",
      "\n",
      "In his eyes she eclipses and predominates the whole of her sex.\n",
      "Base model:  POSITIVE 0.9994776844978333\n",
      "My model:  LABEL_1 0.9985541701316833\n",
      "\n"
     ]
    }
   ],
   "source": [
    "# test by eye on 10 random sentences from text\n",
    "import random\n",
    "\n",
    "# init list of sentences from random sample\n",
    "random.seed(42)\n",
    "sentences = list([text[i] for i in random.sample(range(len(text)), 10)])\n",
    "\n",
    "# get sentiments\n",
    "sentiment_pip = pip_model(sentences)\n",
    "sentiment_my = my_model(sentences)\n",
    "\n",
    "# print results\n",
    "for i in range(10):\n",
    "    print(sentences[i])\n",
    "    print(\"Base model: \", sentiment_pip[i]['label'], sentiment_pip[i]['score'])\n",
    "    print(\"My model: \", sentiment_my[i]['label'], sentiment_my[i]['score'])\n",
    "    print()\n"
   ]
  }
 ],
 "metadata": {
  "kernelspec": {
   "display_name": "mlenv",
   "language": "python",
   "name": "python3"
  },
  "language_info": {
   "codemirror_mode": {
    "name": "ipython",
    "version": 3
   },
   "file_extension": ".py",
   "mimetype": "text/x-python",
   "name": "python",
   "nbconvert_exporter": "python",
   "pygments_lexer": "ipython3",
   "version": "3.11.5"
  },
  "orig_nbformat": 4
 },
 "nbformat": 4,
 "nbformat_minor": 2
}
