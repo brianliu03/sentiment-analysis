{
 "cells": [
  {
   "cell_type": "code",
   "execution_count": 15,
   "metadata": {},
   "outputs": [
    {
     "name": "stdout",
     "output_type": "stream",
     "text": [
      "Requirement already satisfied: mytextgrid in /Users/brianliu03/miniconda3/envs/mlenv/lib/python3.11/site-packages (0.8.0)\n",
      "Requirement already satisfied: chardet>=5.0.0 in /Users/brianliu03/miniconda3/envs/mlenv/lib/python3.11/site-packages (from mytextgrid) (5.2.0)\n",
      "Requirement already satisfied: jinja2>=3.1.2 in /Users/brianliu03/miniconda3/envs/mlenv/lib/python3.11/site-packages (from mytextgrid) (3.1.2)\n",
      "Requirement already satisfied: markupsafe>=2.1.1 in /Users/brianliu03/miniconda3/envs/mlenv/lib/python3.11/site-packages (from mytextgrid) (2.1.1)\n",
      "Note: you may need to restart the kernel to use updated packages.\n"
     ]
    }
   ],
   "source": [
    "# imports\n",
    "%pip install mytextgrid -U\n",
    "from transformers import pipeline\n",
    "from text_stop_sentences import text_stop_sentences\n",
    "import string\n",
    "import numpy as np\n",
    "import pandas as pd\n",
    "import matplotlib.pyplot as plt\n",
    "from itertools import chain\n",
    "from os import listdir\n",
    "from os.path import isfile, join\n",
    "import json\n",
    "import mytextgrid"
   ]
  },
  {
   "cell_type": "code",
   "execution_count": 11,
   "metadata": {},
   "outputs": [],
   "source": [
    "# load data and transcript\n",
    "aligned = mytextgrid.read_from_file('force_aligned/manual/adventuresofsherlockholmes_01_doyle_64kb.TextGrid')\n",
    "\n",
    "text = open('force_aligned/gentle/01_1/transcript.txt').read().replace('\\n', ' ').replace('.', '').split(' ')"
   ]
  },
  {
   "cell_type": "code",
   "execution_count": 3,
   "metadata": {},
   "outputs": [
    {
     "name": "stderr",
     "output_type": "stream",
     "text": [
      "[nltk_data] Downloading package stopwords to\n",
      "[nltk_data]     /Users/brianliu03/nltk_data...\n",
      "[nltk_data]   Package stopwords is already up-to-date!\n",
      "Some weights of the model checkpoint at cardiffnlp/twitter-roberta-base-sentiment-latest were not used when initializing RobertaForSequenceClassification: ['roberta.pooler.dense.weight', 'roberta.pooler.dense.bias']\n",
      "- This IS expected if you are initializing RobertaForSequenceClassification from the checkpoint of a model trained on another task or with another architecture (e.g. initializing a BertForSequenceClassification model from a BertForPreTraining model).\n",
      "- This IS NOT expected if you are initializing RobertaForSequenceClassification from the checkpoint of a model that you expect to be exactly identical (initializing a BertForSequenceClassification model from a BertForSequenceClassification model).\n"
     ]
    }
   ],
   "source": [
    "# get model results\n",
    "df_stop_sentences = text_stop_sentences()"
   ]
  },
  {
   "cell_type": "code",
   "execution_count": 5,
   "metadata": {},
   "outputs": [
    {
     "data": {
      "text/html": [
       "<div>\n",
       "<style scoped>\n",
       "    .dataframe tbody tr th:only-of-type {\n",
       "        vertical-align: middle;\n",
       "    }\n",
       "\n",
       "    .dataframe tbody tr th {\n",
       "        vertical-align: top;\n",
       "    }\n",
       "\n",
       "    .dataframe thead th {\n",
       "        text-align: right;\n",
       "    }\n",
       "</style>\n",
       "<table border=\"1\" class=\"dataframe\">\n",
       "  <thead>\n",
       "    <tr style=\"text-align: right;\">\n",
       "      <th>label</th>\n",
       "      <th>negative</th>\n",
       "      <th>neutral</th>\n",
       "      <th>positive</th>\n",
       "    </tr>\n",
       "    <tr>\n",
       "      <th>sentence</th>\n",
       "      <th></th>\n",
       "      <th></th>\n",
       "      <th></th>\n",
       "    </tr>\n",
       "  </thead>\n",
       "  <tbody>\n",
       "    <tr>\n",
       "      <th>0</th>\n",
       "      <td>0.028771</td>\n",
       "      <td>0.704748</td>\n",
       "      <td>0.266481</td>\n",
       "    </tr>\n",
       "    <tr>\n",
       "      <th>1</th>\n",
       "      <td>0.225471</td>\n",
       "      <td>0.730517</td>\n",
       "      <td>0.044013</td>\n",
       "    </tr>\n",
       "    <tr>\n",
       "      <th>2</th>\n",
       "      <td>0.092984</td>\n",
       "      <td>0.816105</td>\n",
       "      <td>0.090912</td>\n",
       "    </tr>\n",
       "    <tr>\n",
       "      <th>3</th>\n",
       "      <td>0.010216</td>\n",
       "      <td>0.306411</td>\n",
       "      <td>0.683373</td>\n",
       "    </tr>\n",
       "    <tr>\n",
       "      <th>4</th>\n",
       "      <td>0.611956</td>\n",
       "      <td>0.344088</td>\n",
       "      <td>0.043956</td>\n",
       "    </tr>\n",
       "    <tr>\n",
       "      <th>...</th>\n",
       "      <td>...</td>\n",
       "      <td>...</td>\n",
       "      <td>...</td>\n",
       "    </tr>\n",
       "    <tr>\n",
       "      <th>5556</th>\n",
       "      <td>0.006284</td>\n",
       "      <td>0.050273</td>\n",
       "      <td>0.943442</td>\n",
       "    </tr>\n",
       "    <tr>\n",
       "      <th>5557</th>\n",
       "      <td>0.006989</td>\n",
       "      <td>0.059834</td>\n",
       "      <td>0.933177</td>\n",
       "    </tr>\n",
       "    <tr>\n",
       "      <th>5558</th>\n",
       "      <td>0.026821</td>\n",
       "      <td>0.597858</td>\n",
       "      <td>0.375321</td>\n",
       "    </tr>\n",
       "    <tr>\n",
       "      <th>5559</th>\n",
       "      <td>0.182917</td>\n",
       "      <td>0.663194</td>\n",
       "      <td>0.153889</td>\n",
       "    </tr>\n",
       "    <tr>\n",
       "      <th>5560</th>\n",
       "      <td>0.145054</td>\n",
       "      <td>0.693564</td>\n",
       "      <td>0.161381</td>\n",
       "    </tr>\n",
       "  </tbody>\n",
       "</table>\n",
       "<p>5561 rows × 3 columns</p>\n",
       "</div>"
      ],
      "text/plain": [
       "label     negative   neutral  positive\n",
       "sentence                              \n",
       "0         0.028771  0.704748  0.266481\n",
       "1         0.225471  0.730517  0.044013\n",
       "2         0.092984  0.816105  0.090912\n",
       "3         0.010216  0.306411  0.683373\n",
       "4         0.611956  0.344088  0.043956\n",
       "...            ...       ...       ...\n",
       "5556      0.006284  0.050273  0.943442\n",
       "5557      0.006989  0.059834  0.933177\n",
       "5558      0.026821  0.597858  0.375321\n",
       "5559      0.182917  0.663194  0.153889\n",
       "5560      0.145054  0.693564  0.161381\n",
       "\n",
       "[5561 rows x 3 columns]"
      ]
     },
     "execution_count": 5,
     "metadata": {},
     "output_type": "execute_result"
    }
   ],
   "source": [
    "# append start and end times for each sentence in df_stop_sentences\n",
    "for i in range(len(df_stop_sentences)):\n",
    "    df_stop_sentences['start_time'][i] = aligned[df_stop_sentences['start_word'][i]]['start']\n",
    "    df_stop_sentences['end_time'][i] = aligned[df_stop_sentences['end_word'][i]]['end']"
   ]
  }
 ],
 "metadata": {
  "kernelspec": {
   "display_name": "mlenv",
   "language": "python",
   "name": "python3"
  },
  "language_info": {
   "codemirror_mode": {
    "name": "ipython",
    "version": 3
   },
   "file_extension": ".py",
   "mimetype": "text/x-python",
   "name": "python",
   "nbconvert_exporter": "python",
   "pygments_lexer": "ipython3",
   "version": "3.11.5"
  }
 },
 "nbformat": 4,
 "nbformat_minor": 2
}
